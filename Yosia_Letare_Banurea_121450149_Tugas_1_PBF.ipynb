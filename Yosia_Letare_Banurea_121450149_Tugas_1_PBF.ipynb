{
 "cells": [
  {
   "cell_type": "markdown",
   "metadata": {
    "id": "a5i-DoB8_7CV"
   },
   "source": [
    "## 1. Jelaskan menggunakan tabel mengenai kelebihan dan kekurangan paradigma procedural dibandingkan dengan object oriented (minimal 3) !"
   ]
  },
  {
   "cell_type": "markdown",
   "metadata": {
    "id": "fTe1niw8_9XD"
   },
   "source": [
    "Kelebihan  | Kekurangan \n",
    "---------|---------\n",
    "Memakai Memori yang lebih sedikit | Sulit untuk dimodifikasi\n",
    "Lebih mudah dipahami dibandingkan Object Oriented | Data Bersifat Pasif\n",
    "Cocok untuk Program/aplikasi Sederhana |  Kurang cocok untuk program/aplikasi complex \n",
    " | Kurang aman"
   ]
  },
  {
   "cell_type": "markdown",
   "metadata": {
    "id": "iXo3rz9XJfwP"
   },
   "source": [
    "## 2. Jelaskan menggunakan tabel mengenai kelebihan dan kekurangan paradigma object oriented dibandingkan dengan functional (minimal 3) !"
   ]
  },
  {
   "cell_type": "markdown",
   "metadata": {
    "id": "xZYgQRiFJnG-"
   },
   "source": [
    "Kelebihan | Kekurangan\n",
    "--------- | ----------\n",
    "Algoritma lebih jelas dairipada fungsional |  Membutuhkan memori lebih besar dibanding Functional\n",
    "Cocok untuk Program Kompleks | Lebih sulit dipahami\n",
    "Data bersifat mutable | Kode yang lebih banyak dibandingkan Functional\n",
    " | Tidak support parallel programming "
   ]
  },
  {
   "cell_type": "markdown",
   "metadata": {
    "id": "cgU9myZ4LUfv"
   },
   "source": [
    "## 3. Jelaskan menggunakan tabel mengenai kelebihan dan kekurangan paradigma procedural dibandingkan dengan functional (minimal 3) !"
   ]
  },
  {
   "cell_type": "markdown",
   "metadata": {
    "id": "kkP_57GKLbaH"
   },
   "source": [
    "Kelebihan | Kekurangan\n",
    "--------- | ----------\n",
    "Data Bersifat Mutable |Sulit untuk diubah/dimodifikasi\n",
    "Lebih Mudah Dipahami |Proses debug lebih lambat \n",
    "Pemakaian Loop yang normal |Jarang menggunakan fungsi"
   ]
  },
  {
   "cell_type": "markdown",
   "metadata": {
    "id": "P-PntOuGEXax"
   },
   "source": [
    "## 4. Apa yang dimaksud dengan pure functional programming language?"
   ]
  },
  {
   "cell_type": "markdown",
   "metadata": {
    "id": "_5jyWPcXEcgB"
   },
   "source": [
    "pure functional programming adalah pemrograman yang terjadi di dalam fungsi matematis dan menghindari terjadinya perubahan data."
   ]
  },
  {
   "cell_type": "markdown",
   "metadata": {
    "id": "LONjNbIOFwIq"
   },
   "source": [
    "## 5. Dari bahasa pemrograman FP di slide sebelumnya ( slide 14 ) , manakah yang termasuk pure functional programming language?"
   ]
  },
  {
   "cell_type": "markdown",
   "metadata": {
    "id": "MffQCNyYF4Jq"
   },
   "source": [
    "Lisp dan Haskell"
   ]
  },
  {
   "cell_type": "markdown",
   "metadata": {
    "id": "6_mRfL1SGr7e"
   },
   "source": [
    "## 6. Membuat program Simple Password encryption, dengan ketentuan\n",
    "1. Input password bertipe string dengan batasan panjang password\n",
    "100 karakter\n",
    "2. Setiap karakter dari string tersebut diubah menjadi ASCII value\n",
    "3. Kemudian setiap ASCII value tersebut dikembangkan menjadi 3\n",
    "value dengan dilakukan operasi berikut:\n",
    "  1. Value pertama dibagi dengan integer 26 kemudian\n",
    "dibulatkan dan dijumlahkan dengan 80 kemudian diubah\n",
    "kembali menjadi karakter\n",
    "  2. Value kedua dihitung sisa bagi dengan 26 kemudian\n",
    "dijumlahkan dengan 80 kemudian diubah kembali menjadi\n",
    "karakter\n",
    "  3. Value ketiga adalah karakter ‘+’ jika value pertama lebih\n",
    "besar dari value kedua, atau value ketiga adalah karakter ‘-’\n",
    "jika value pertama tidak lebih besar dari value kedua\n",
    "4. Deretkan value pertama, kedua dan ketiga untuk setiap karakter\n",
    "dalam password tersebut sehingga didapatkan password dalam\n",
    "bentuk baru\n"
   ]
  },
  {
   "cell_type": "code",
   "execution_count": 2,
   "metadata": {
    "colab": {
     "base_uri": "https://localhost:8080/"
    },
    "id": "dBBjPoGmG2jn",
    "outputId": "80eac43a-39e2-4039-d679-fdedf12e7f78"
   },
   "outputs": [
    {
     "name": "stdout",
     "output_type": "stream",
     "text": [
      "Massukkan Password: PBF2023\n",
      "SR+S^-Sb-Rh-Rf-Rh-Ri-\n"
     ]
    }
   ],
   "source": [
    "def enkripsi(pw):\n",
    "    \n",
    "    if len(pw) > 100:\n",
    "        return \"Password Melebihi Batas \"\n",
    "\n",
    "    enkripsi_pw = \"\"\n",
    "    \n",
    "    for char in pw:\n",
    "        ascii = ord(char) \n",
    "        value1 = chr(round((ascii / 26)) + 80) \n",
    "        value2 = chr((ascii % 26) + 80)\n",
    "        if value1 > value2:\n",
    "            value3 = '+'; \n",
    "        else:\n",
    "            value3 = '-'\n",
    "        enkripsi_pw += value1 + value2 + value3\n",
    "    print(enkripsi_pw)\n",
    "\n",
    "password = input(\"Massukkan Password: \") \n",
    "enkripsi(password)"
   ]
  }
 ],
 "metadata": {
  "colab": {
   "provenance": []
  },
  "kernelspec": {
   "display_name": "Python 3 (ipykernel)",
   "language": "python",
   "name": "python3"
  },
  "language_info": {
   "codemirror_mode": {
    "name": "ipython",
    "version": 3
   },
   "file_extension": ".py",
   "mimetype": "text/x-python",
   "name": "python",
   "nbconvert_exporter": "python",
   "pygments_lexer": "ipython3",
   "version": "3.10.7"
  }
 },
 "nbformat": 4,
 "nbformat_minor": 1
}
